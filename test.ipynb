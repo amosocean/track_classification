{
 "cells": [
  {
   "cell_type": "code",
   "execution_count": 120,
   "metadata": {},
   "outputs": [
    {
     "name": "stdout",
     "output_type": "stream",
     "text": [
      "<HDF5 dataset \"b\": shape (1, 234), type \"|O\">\n",
      "<HDF5 dataset \"CA\": shape (1, 175), type \"|O\">\n",
      "<HDF5 dataset \"oU\": shape (1, 238), type \"|O\">\n",
      "<HDF5 dataset \"hlb\": shape (1, 114), type \"|O\">\n",
      "<HDF5 dataset \"ayb\": shape (1, 178), type \"|O\">\n",
      "<HDF5 dataset \"hSb\": shape (1, 47), type \"|O\">\n",
      "<HDF5 dataset \"BXb\": shape (1, 190), type \"|O\">\n",
      "<HDF5 dataset \"5ic\": shape (1, 170), type \"|O\">\n",
      "<HDF5 dataset \"hCc\": shape (1, 171), type \"|O\">\n",
      "<HDF5 dataset \"BVc\": shape (1, 36), type \"|O\">\n",
      "<HDF5 dataset \"GZc\": shape (1, 232), type \"|O\">\n",
      "<HDF5 dataset \"Tpd\": shape (1, 198), type \"|O\">\n",
      "<HDF5 dataset \"gMd\": shape (1, 36), type \"|O\">\n",
      "<HDF5 dataset \"lQd\": shape (1, 247), type \"|O\">\n"
     ]
    },
    {
     "data": {
      "text/plain": [
       "<HDF5 dataset \"lQd\": shape (1, 247), type \"|O\">"
      ]
     },
     "execution_count": 120,
     "metadata": {},
     "output_type": "execute_result"
    }
   ],
   "source": [
    "from scipy.io import loadmat\n",
    "import os\n",
    "import numpy as np\n",
    "import h5py\n",
    "import torch\n",
    "dir_path=\"/home/amos/haitun/pycode/\"#os.path.dirname(os.path.abspath())\n",
    "\n",
    "# Open the MATLAB v7.3 file using h5py\n",
    "dataset = h5py.File(os.path.join(dir_path,'source/matlab/savedData.mat'), 'r')\n",
    "\n",
    "# Read the dataset from the file\n",
    "sample_list = dataset['sample_list']\n",
    "for samples_ref in sample_list[0]:\n",
    "    dataset[samples_ref]\n",
    "\n",
    "dataset[samples_ref]\n",
    "# dataset_list = torch.tensor(dataset[:])\n",
    "# # Close the file\n",
    "# mat_file.close()\n",
    "\n",
    "# np.array(dataset_list[0][0])"
   ]
  },
  {
   "cell_type": "code",
   "execution_count": 74,
   "metadata": {},
   "outputs": [
    {
     "name": "stdout",
     "output_type": "stream",
     "text": [
      "14\n"
     ]
    }
   ],
   "source": [
    "print(dataset.size)"
   ]
  },
  {
   "cell_type": "code",
   "execution_count": 58,
   "metadata": {},
   "outputs": [
    {
     "ename": "KeyError",
     "evalue": "'trajectory_list'",
     "output_type": "error",
     "traceback": [
      "\u001b[0;31m---------------------------------------------------------------------------\u001b[0m",
      "\u001b[0;31mKeyError\u001b[0m                                  Traceback (most recent call last)",
      "\u001b[1;32m/home/amos/haitun/pycode/test.ipynb 单元格 2\u001b[0m line \u001b[0;36m1\n\u001b[0;32m----> <a href='vscode-notebook-cell://wsl%2Bubuntudl/home/amos/haitun/pycode/test.ipynb#W1sdnNjb2RlLXJlbW90ZQ%3D%3D?line=0'>1</a>\u001b[0m dataframe\u001b[39m=\u001b[39mmat_contents[\u001b[39m\"\u001b[39;49m\u001b[39mtrajectory_list\u001b[39;49m\u001b[39m\"\u001b[39;49m]\n\u001b[1;32m      <a href='vscode-notebook-cell://wsl%2Bubuntudl/home/amos/haitun/pycode/test.ipynb#W1sdnNjb2RlLXJlbW90ZQ%3D%3D?line=1'>2</a>\u001b[0m \u001b[39mprint\u001b[39m(dataframe[\u001b[39m0\u001b[39m,\u001b[39m0\u001b[39m]\u001b[39m.\u001b[39mshape)\n\u001b[1;32m      <a href='vscode-notebook-cell://wsl%2Bubuntudl/home/amos/haitun/pycode/test.ipynb#W1sdnNjb2RlLXJlbW90ZQ%3D%3D?line=2'>3</a>\u001b[0m dataframe\u001b[39m.\u001b[39mshape\n",
      "\u001b[0;31mKeyError\u001b[0m: 'trajectory_list'"
     ]
    }
   ],
   "source": [
    "\n"
   ]
  },
  {
   "cell_type": "code",
   "execution_count": 56,
   "metadata": {},
   "outputs": [
    {
     "ename": "NameError",
     "evalue": "name 'np' is not defined",
     "output_type": "error",
     "traceback": [
      "\u001b[0;31m---------------------------------------------------------------------------\u001b[0m",
      "\u001b[0;31mNameError\u001b[0m                                 Traceback (most recent call last)",
      "\u001b[1;32m/home/amos/haitun/pycode/test.ipynb 单元格 3\u001b[0m line \u001b[0;36m1\n\u001b[0;32m----> <a href='vscode-notebook-cell://wsl%2Bubuntudl/home/amos/haitun/pycode/test.ipynb#W2sdnNjb2RlLXJlbW90ZQ%3D%3D?line=0'>1</a>\u001b[0m np\u001b[39m.\u001b[39msave(\u001b[39m\"\u001b[39m\u001b[39mtest.npy\u001b[39m\u001b[39m\"\u001b[39m,dataframe)\n",
      "\u001b[0;31mNameError\u001b[0m: name 'np' is not defined"
     ]
    }
   ],
   "source": [
    "np.save(\"test.npy\",dataframe)"
   ]
  },
  {
   "cell_type": "code",
   "execution_count": 4,
   "metadata": {},
   "outputs": [
    {
     "data": {
      "text/plain": [
       "<module 'aeon.utils' from '/home/amos/anaconda3/envs/haitun/lib/python3.8/site-packages/aeon/utils/__init__.py'>"
      ]
     },
     "execution_count": 4,
     "metadata": {},
     "output_type": "execute_result"
    }
   ],
   "source": [
    "import numpy as np\n",
    "import aeon\n",
    "X=np.ones([5,6,7])\n",
    "aeon.utils"
   ]
  },
  {
   "cell_type": "code",
   "execution_count": 7,
   "metadata": {},
   "outputs": [
    {
     "data": {
      "text/plain": [
       "(2, 1, 26)"
      ]
     },
     "execution_count": 7,
     "metadata": {},
     "output_type": "execute_result"
    }
   ],
   "source": [
    "from aeon.transformations.collection import DWTTransformer\n",
    "import numpy as np\n",
    "data = np.array([[[1,2,3,4,5,6,7,8,9,10]],[[5,5,5,5,5,5,5,5,5,5]]])\n",
    "dwt = DWTTransformer(n_levels=20)\n",
    "data2 = dwt.fit_transform(data)\n",
    "data2.shape"
   ]
  },
  {
   "cell_type": "code",
   "execution_count": 3,
   "metadata": {},
   "outputs": [
    {
     "data": {
      "text/plain": [
       "3.1688"
      ]
     },
     "execution_count": 3,
     "metadata": {},
     "output_type": "execute_result"
    }
   ],
   "source": [
    "from numba import njit\n",
    "import random\n",
    "\n",
    "@njit\n",
    "def monte_carlo_pi(nsamples):\n",
    "    acc = 0\n",
    "    for i in range(nsamples):\n",
    "        x = random.random()\n",
    "        y = random.random()\n",
    "        if (x ** 2 + y ** 2) < 1.0:\n",
    "            acc += 1\n",
    "    return 4.0 * acc / nsamples\n",
    "\n",
    "monte_carlo_pi(5000)"
   ]
  },
  {
   "cell_type": "code",
   "execution_count": 4,
   "metadata": {},
   "outputs": [
    {
     "ename": "RuntimeError",
     "evalue": "The example data could not be found. You need to download the Robot Execution Failures LP1 Data Set from the UCI Machine Learning Repository. To do so, you can call the function tsfresh.examples.robot_execution_failures.download_robot_execution_failures",
     "output_type": "error",
     "traceback": [
      "\u001b[0;31m---------------------------------------------------------------------------\u001b[0m",
      "\u001b[0;31mRuntimeError\u001b[0m                              Traceback (most recent call last)",
      "\u001b[1;32m/home/amos/haitun/pycode/test.ipynb 单元格 8\u001b[0m line \u001b[0;36m3\n\u001b[1;32m      <a href='vscode-notebook-cell://wsl%2Bubuntudl/home/amos/haitun/pycode/test.ipynb#X10sdnNjb2RlLXJlbW90ZQ%3D%3D?line=0'>1</a>\u001b[0m \u001b[39mfrom\u001b[39;00m \u001b[39mtsfresh\u001b[39;00m\u001b[39m.\u001b[39;00m\u001b[39mexamples\u001b[39;00m \u001b[39mimport\u001b[39;00m load_robot_execution_failures\n\u001b[1;32m      <a href='vscode-notebook-cell://wsl%2Bubuntudl/home/amos/haitun/pycode/test.ipynb#X10sdnNjb2RlLXJlbW90ZQ%3D%3D?line=1'>2</a>\u001b[0m \u001b[39mfrom\u001b[39;00m \u001b[39mtsfresh\u001b[39;00m \u001b[39mimport\u001b[39;00m extract_features, select_features\n\u001b[0;32m----> <a href='vscode-notebook-cell://wsl%2Bubuntudl/home/amos/haitun/pycode/test.ipynb#X10sdnNjb2RlLXJlbW90ZQ%3D%3D?line=2'>3</a>\u001b[0m df, y \u001b[39m=\u001b[39m load_robot_execution_failures()\n\u001b[1;32m      <a href='vscode-notebook-cell://wsl%2Bubuntudl/home/amos/haitun/pycode/test.ipynb#X10sdnNjb2RlLXJlbW90ZQ%3D%3D?line=3'>4</a>\u001b[0m X_extracted \u001b[39m=\u001b[39m extract_features(df, column_id\u001b[39m=\u001b[39m\u001b[39m'\u001b[39m\u001b[39mid\u001b[39m\u001b[39m'\u001b[39m, column_sort\u001b[39m=\u001b[39m\u001b[39m'\u001b[39m\u001b[39mtime\u001b[39m\u001b[39m'\u001b[39m)\n\u001b[1;32m      <a href='vscode-notebook-cell://wsl%2Bubuntudl/home/amos/haitun/pycode/test.ipynb#X10sdnNjb2RlLXJlbW90ZQ%3D%3D?line=4'>5</a>\u001b[0m X_selected \u001b[39m=\u001b[39m select_features(X_extracted, y)\n",
      "File \u001b[0;32m~/anaconda3/envs/haitun/lib/python3.8/site-packages/tsfresh/examples/robot_execution_failures.py:103\u001b[0m, in \u001b[0;36mload_robot_execution_failures\u001b[0;34m(multiclass, file_name)\u001b[0m\n\u001b[1;32m     85\u001b[0m \u001b[39m\u001b[39m\u001b[39m\"\"\"\u001b[39;00m\n\u001b[1;32m     86\u001b[0m \u001b[39mLoad the Robot Execution Failures LP1 Data Set[1].\u001b[39;00m\n\u001b[1;32m     87\u001b[0m \u001b[39mThe Time series are passed as a flat DataFrame.\u001b[39;00m\n\u001b[0;32m   (...)\u001b[0m\n\u001b[1;32m    100\u001b[0m \u001b[39m:rtype: tuple\u001b[39;00m\n\u001b[1;32m    101\u001b[0m \u001b[39m\"\"\"\u001b[39;00m\n\u001b[1;32m    102\u001b[0m \u001b[39mif\u001b[39;00m \u001b[39mnot\u001b[39;00m os\u001b[39m.\u001b[39mpath\u001b[39m.\u001b[39mexists(file_name):\n\u001b[0;32m--> 103\u001b[0m     \u001b[39mraise\u001b[39;00m \u001b[39mRuntimeError\u001b[39;00m(UCI_MLD_REF_MSG)\n\u001b[1;32m    105\u001b[0m id_to_target \u001b[39m=\u001b[39m {}\n\u001b[1;32m    106\u001b[0m df_rows \u001b[39m=\u001b[39m []\n",
      "\u001b[0;31mRuntimeError\u001b[0m: The example data could not be found. You need to download the Robot Execution Failures LP1 Data Set from the UCI Machine Learning Repository. To do so, you can call the function tsfresh.examples.robot_execution_failures.download_robot_execution_failures"
     ]
    }
   ],
   "source": [
    "from tsfresh.examples import load_robot_execution_failures\n",
    "from tsfresh import extract_features, select_features\n",
    "df, y = load_robot_execution_failures()\n",
    "X_extracted = extract_features(df, column_id='id', column_sort='time')\n",
    "X_selected = select_features(X_extracted, y)"
   ]
  },
  {
   "cell_type": "code",
   "execution_count": 1,
   "metadata": {},
   "outputs": [
    {
     "data": {
      "text/html": [
       "<div>\n",
       "<style scoped>\n",
       "    .dataframe tbody tr th:only-of-type {\n",
       "        vertical-align: middle;\n",
       "    }\n",
       "\n",
       "    .dataframe tbody tr th {\n",
       "        vertical-align: top;\n",
       "    }\n",
       "\n",
       "    .dataframe thead th {\n",
       "        text-align: right;\n",
       "    }\n",
       "</style>\n",
       "<table border=\"1\" class=\"dataframe\">\n",
       "  <thead>\n",
       "    <tr style=\"text-align: right;\">\n",
       "      <th></th>\n",
       "      <th>time</th>\n",
       "      <th>value1</th>\n",
       "      <th>value2</th>\n",
       "      <th>value3</th>\n",
       "      <th>value4</th>\n",
       "      <th>id</th>\n",
       "    </tr>\n",
       "  </thead>\n",
       "  <tbody>\n",
       "    <tr>\n",
       "      <th>0</th>\n",
       "      <td>-0.051528</td>\n",
       "      <td>-0.622899</td>\n",
       "      <td>-0.493729</td>\n",
       "      <td>0.334992</td>\n",
       "      <td>-0.136070</td>\n",
       "      <td>0</td>\n",
       "    </tr>\n",
       "    <tr>\n",
       "      <th>1</th>\n",
       "      <td>0.701175</td>\n",
       "      <td>0.848844</td>\n",
       "      <td>-0.926063</td>\n",
       "      <td>-0.885664</td>\n",
       "      <td>-0.577250</td>\n",
       "      <td>0</td>\n",
       "    </tr>\n",
       "    <tr>\n",
       "      <th>2</th>\n",
       "      <td>0.020899</td>\n",
       "      <td>-0.455523</td>\n",
       "      <td>0.711746</td>\n",
       "      <td>0.203163</td>\n",
       "      <td>-0.160336</td>\n",
       "      <td>0</td>\n",
       "    </tr>\n",
       "    <tr>\n",
       "      <th>3</th>\n",
       "      <td>-1.767689</td>\n",
       "      <td>0.236764</td>\n",
       "      <td>-1.100085</td>\n",
       "      <td>0.855486</td>\n",
       "      <td>-1.431458</td>\n",
       "      <td>0</td>\n",
       "    </tr>\n",
       "    <tr>\n",
       "      <th>4</th>\n",
       "      <td>0.052860</td>\n",
       "      <td>1.113244</td>\n",
       "      <td>-2.009596</td>\n",
       "      <td>-1.513696</td>\n",
       "      <td>2.591890</td>\n",
       "      <td>0</td>\n",
       "    </tr>\n",
       "    <tr>\n",
       "      <th>5</th>\n",
       "      <td>0.410447</td>\n",
       "      <td>-1.193081</td>\n",
       "      <td>0.572324</td>\n",
       "      <td>-0.000235</td>\n",
       "      <td>-1.254391</td>\n",
       "      <td>1</td>\n",
       "    </tr>\n",
       "    <tr>\n",
       "      <th>6</th>\n",
       "      <td>-0.211825</td>\n",
       "      <td>2.085861</td>\n",
       "      <td>-0.083606</td>\n",
       "      <td>-0.426466</td>\n",
       "      <td>-1.026804</td>\n",
       "      <td>1</td>\n",
       "    </tr>\n",
       "    <tr>\n",
       "      <th>7</th>\n",
       "      <td>-0.893872</td>\n",
       "      <td>-0.305426</td>\n",
       "      <td>1.844303</td>\n",
       "      <td>1.642932</td>\n",
       "      <td>0.385623</td>\n",
       "      <td>1</td>\n",
       "    </tr>\n",
       "    <tr>\n",
       "      <th>8</th>\n",
       "      <td>1.218785</td>\n",
       "      <td>-0.330900</td>\n",
       "      <td>-2.499035</td>\n",
       "      <td>-0.607639</td>\n",
       "      <td>-1.005751</td>\n",
       "      <td>1</td>\n",
       "    </tr>\n",
       "    <tr>\n",
       "      <th>9</th>\n",
       "      <td>-0.575716</td>\n",
       "      <td>-0.984035</td>\n",
       "      <td>-0.677772</td>\n",
       "      <td>-0.224939</td>\n",
       "      <td>0.630291</td>\n",
       "      <td>1</td>\n",
       "    </tr>\n",
       "    <tr>\n",
       "      <th>10</th>\n",
       "      <td>0.048878</td>\n",
       "      <td>0.593846</td>\n",
       "      <td>-0.439457</td>\n",
       "      <td>-0.385476</td>\n",
       "      <td>-1.021753</td>\n",
       "      <td>1</td>\n",
       "    </tr>\n",
       "    <tr>\n",
       "      <th>11</th>\n",
       "      <td>-0.054278</td>\n",
       "      <td>-0.394108</td>\n",
       "      <td>2.198100</td>\n",
       "      <td>1.009074</td>\n",
       "      <td>0.792728</td>\n",
       "      <td>2</td>\n",
       "    </tr>\n",
       "    <tr>\n",
       "      <th>12</th>\n",
       "      <td>-0.438530</td>\n",
       "      <td>0.825753</td>\n",
       "      <td>-1.130314</td>\n",
       "      <td>-1.748586</td>\n",
       "      <td>0.681760</td>\n",
       "      <td>2</td>\n",
       "    </tr>\n",
       "    <tr>\n",
       "      <th>13</th>\n",
       "      <td>0.627741</td>\n",
       "      <td>0.414462</td>\n",
       "      <td>0.026996</td>\n",
       "      <td>1.236474</td>\n",
       "      <td>-0.386848</td>\n",
       "      <td>2</td>\n",
       "    </tr>\n",
       "    <tr>\n",
       "      <th>14</th>\n",
       "      <td>0.852637</td>\n",
       "      <td>2.037951</td>\n",
       "      <td>-0.798815</td>\n",
       "      <td>0.958929</td>\n",
       "      <td>1.321713</td>\n",
       "      <td>2</td>\n",
       "    </tr>\n",
       "    <tr>\n",
       "      <th>15</th>\n",
       "      <td>-0.723188</td>\n",
       "      <td>0.194894</td>\n",
       "      <td>-2.757499</td>\n",
       "      <td>-1.229232</td>\n",
       "      <td>-0.506454</td>\n",
       "      <td>2</td>\n",
       "    </tr>\n",
       "    <tr>\n",
       "      <th>16</th>\n",
       "      <td>-0.562764</td>\n",
       "      <td>-0.325445</td>\n",
       "      <td>-0.332006</td>\n",
       "      <td>1.693312</td>\n",
       "      <td>-0.731875</td>\n",
       "      <td>2</td>\n",
       "    </tr>\n",
       "    <tr>\n",
       "      <th>17</th>\n",
       "      <td>1.024938</td>\n",
       "      <td>-2.214313</td>\n",
       "      <td>0.357640</td>\n",
       "      <td>-0.223216</td>\n",
       "      <td>0.818316</td>\n",
       "      <td>2</td>\n",
       "    </tr>\n",
       "  </tbody>\n",
       "</table>\n",
       "</div>"
      ],
      "text/plain": [
       "        time    value1    value2    value3    value4  id\n",
       "0  -0.051528 -0.622899 -0.493729  0.334992 -0.136070   0\n",
       "1   0.701175  0.848844 -0.926063 -0.885664 -0.577250   0\n",
       "2   0.020899 -0.455523  0.711746  0.203163 -0.160336   0\n",
       "3  -1.767689  0.236764 -1.100085  0.855486 -1.431458   0\n",
       "4   0.052860  1.113244 -2.009596 -1.513696  2.591890   0\n",
       "5   0.410447 -1.193081  0.572324 -0.000235 -1.254391   1\n",
       "6  -0.211825  2.085861 -0.083606 -0.426466 -1.026804   1\n",
       "7  -0.893872 -0.305426  1.844303  1.642932  0.385623   1\n",
       "8   1.218785 -0.330900 -2.499035 -0.607639 -1.005751   1\n",
       "9  -0.575716 -0.984035 -0.677772 -0.224939  0.630291   1\n",
       "10  0.048878  0.593846 -0.439457 -0.385476 -1.021753   1\n",
       "11 -0.054278 -0.394108  2.198100  1.009074  0.792728   2\n",
       "12 -0.438530  0.825753 -1.130314 -1.748586  0.681760   2\n",
       "13  0.627741  0.414462  0.026996  1.236474 -0.386848   2\n",
       "14  0.852637  2.037951 -0.798815  0.958929  1.321713   2\n",
       "15 -0.723188  0.194894 -2.757499 -1.229232 -0.506454   2\n",
       "16 -0.562764 -0.325445 -0.332006  1.693312 -0.731875   2\n",
       "17  1.024938 -2.214313  0.357640 -0.223216  0.818316   2"
      ]
     },
     "execution_count": 1,
     "metadata": {},
     "output_type": "execute_result"
    }
   ],
   "source": [
    "import pandas as pd\n",
    "import numpy as np\n",
    "\n",
    "# 假设你的向量列表是：\n",
    "arrays = [np.random.randn(n, 5) for n in [5, 6, 7]]\n",
    "\n",
    "dataframes = []\n",
    "\n",
    "for i, array in enumerate(arrays):\n",
    "    df = pd.DataFrame(array, columns=['time','value1', 'value2', 'value3', 'value4'])\n",
    "    df['id'] = i  # 增加 'id' 列以区分不同的向量\n",
    "    dataframes.append(df)\n",
    "\n",
    "tsfresh_df = pd.concat(dataframes).reset_index(drop=True)\n",
    "tsfresh_df"
   ]
  },
  {
   "cell_type": "code",
   "execution_count": 3,
   "metadata": {},
   "outputs": [],
   "source": [
    "import numpy as np\n",
    "import aeon    \n",
    "import aeon.datasets\n",
    "from aeon.datasets import write_to_tsfile\n",
    "# 先创建一个空的列表来保存所有的数组\n",
    "arrays = []\n",
    "\n",
    "# 然后，创建10个数组\n",
    "for _ in range(10):\n",
    "    # 对于每一个数组，随机选择一个1到100的整数作为n\n",
    "    n = np.random.randint(1, 101)\n",
    "    \n",
    "    # 然后，创建一个形状为(512, n)的数组\n",
    "    array = np.random.rand(512, n)\n",
    "    \n",
    "    # 最后，将数组添加到列表中\n",
    "    arrays.append(array)\n",
    "aeon.datasets.write_to_tsfile(X=arrays,path=\"./dataset\",y=list(range(10)),problem_name=\"haitun_TRAIN\")"
   ]
  }
 ],
 "metadata": {
  "kernelspec": {
   "display_name": "haitun",
   "language": "python",
   "name": "python3"
  },
  "language_info": {
   "codemirror_mode": {
    "name": "ipython",
    "version": 3
   },
   "file_extension": ".py",
   "mimetype": "text/x-python",
   "name": "python",
   "nbconvert_exporter": "python",
   "pygments_lexer": "ipython3",
   "version": "3.8.16"
  }
 },
 "nbformat": 4,
 "nbformat_minor": 2
}
